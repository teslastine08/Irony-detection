{
 "cells": [
  {
   "cell_type": "code",
   "execution_count": 3,
   "metadata": {},
   "outputs": [],
   "source": [
    "import pandas as pd\n",
    "import numpy as np\n",
    "import pickle\n",
    "\n",
    "from sklearn.feature_extraction.text import TfidfVectorizer\n",
    "import nltk\n",
    "from nltk.stem.porter import *\n",
    "import string\n",
    "import re\n",
    "from vaderSentiment.vaderSentiment import SentimentIntensityAnalyzer as VS\n",
    "from textstat.textstat import *\n",
    "from sklearn.linear_model import LogisticRegression\n",
    "from sklearn.feature_selection import SelectFromModel\n",
    "from sklearn.metrics import classification_report\n",
    "from sklearn.svm import LinearSVC\n",
    "import matplotlib.pyplot as plt\n",
    "import seaborn\n",
    "%matplotlib inline"
   ]
  },
  {
   "cell_type": "code",
   "execution_count": 11,
   "metadata": {},
   "outputs": [],
   "source": [
    "df = pd.read_csv(\"C:/Users/Ankan SInha/Desktop/data_final_123.csv\")"
   ]
  },
  {
   "cell_type": "code",
   "execution_count": 12,
   "metadata": {},
   "outputs": [
    {
     "data": {
      "text/html": [
       "<div>\n",
       "<style scoped>\n",
       "    .dataframe tbody tr th:only-of-type {\n",
       "        vertical-align: middle;\n",
       "    }\n",
       "\n",
       "    .dataframe tbody tr th {\n",
       "        vertical-align: top;\n",
       "    }\n",
       "\n",
       "    .dataframe thead th {\n",
       "        text-align: right;\n",
       "    }\n",
       "</style>\n",
       "<table border=\"1\" class=\"dataframe\">\n",
       "  <thead>\n",
       "    <tr style=\"text-align: right;\">\n",
       "      <th></th>\n",
       "      <th>User</th>\n",
       "      <th>Homonym/tweet for Ironic user</th>\n",
       "      <th>Homonym/tweet forNon-Ironic user</th>\n",
       "      <th>Homonyms/Ironic user</th>\n",
       "      <th>Homonym/Non-Ironic User</th>\n",
       "      <th>real</th>\n",
       "    </tr>\n",
       "  </thead>\n",
       "  <tbody>\n",
       "    <tr>\n",
       "      <th>0</th>\n",
       "      <td>1</td>\n",
       "      <td>87.93</td>\n",
       "      <td>47.97</td>\n",
       "      <td>14.371905</td>\n",
       "      <td>12.035119</td>\n",
       "      <td>1</td>\n",
       "    </tr>\n",
       "    <tr>\n",
       "      <th>1</th>\n",
       "      <td>2</td>\n",
       "      <td>60.65</td>\n",
       "      <td>56.78</td>\n",
       "      <td>23.143519</td>\n",
       "      <td>14.033113</td>\n",
       "      <td>0</td>\n",
       "    </tr>\n",
       "    <tr>\n",
       "      <th>2</th>\n",
       "      <td>3</td>\n",
       "      <td>85.43</td>\n",
       "      <td>56.30</td>\n",
       "      <td>23.237668</td>\n",
       "      <td>21.097353</td>\n",
       "      <td>1</td>\n",
       "    </tr>\n",
       "    <tr>\n",
       "      <th>3</th>\n",
       "      <td>4</td>\n",
       "      <td>78.63</td>\n",
       "      <td>49.68</td>\n",
       "      <td>20.251030</td>\n",
       "      <td>15.721862</td>\n",
       "      <td>0</td>\n",
       "    </tr>\n",
       "    <tr>\n",
       "      <th>4</th>\n",
       "      <td>5</td>\n",
       "      <td>89.20</td>\n",
       "      <td>57.94</td>\n",
       "      <td>21.097353</td>\n",
       "      <td>11.090000</td>\n",
       "      <td>1</td>\n",
       "    </tr>\n",
       "    <tr>\n",
       "      <th>5</th>\n",
       "      <td>6</td>\n",
       "      <td>66.40</td>\n",
       "      <td>41.32</td>\n",
       "      <td>15.721862</td>\n",
       "      <td>14.230000</td>\n",
       "      <td>1</td>\n",
       "    </tr>\n",
       "    <tr>\n",
       "      <th>6</th>\n",
       "      <td>7</td>\n",
       "      <td>83.86</td>\n",
       "      <td>53.23</td>\n",
       "      <td>22.860000</td>\n",
       "      <td>10.860000</td>\n",
       "      <td>1</td>\n",
       "    </tr>\n",
       "    <tr>\n",
       "      <th>7</th>\n",
       "      <td>8</td>\n",
       "      <td>62.12</td>\n",
       "      <td>48.89</td>\n",
       "      <td>14.320000</td>\n",
       "      <td>9.870000</td>\n",
       "      <td>1</td>\n",
       "    </tr>\n",
       "    <tr>\n",
       "      <th>8</th>\n",
       "      <td>9</td>\n",
       "      <td>87.74</td>\n",
       "      <td>49.22</td>\n",
       "      <td>16.890000</td>\n",
       "      <td>14.670000</td>\n",
       "      <td>1</td>\n",
       "    </tr>\n",
       "    <tr>\n",
       "      <th>9</th>\n",
       "      <td>10</td>\n",
       "      <td>71.48</td>\n",
       "      <td>55.68</td>\n",
       "      <td>20.230000</td>\n",
       "      <td>17.230000</td>\n",
       "      <td>1</td>\n",
       "    </tr>\n",
       "  </tbody>\n",
       "</table>\n",
       "</div>"
      ],
      "text/plain": [
       "   User  Homonym/tweet for Ironic user  Homonym/tweet forNon-Ironic user  \\\n",
       "0     1                          87.93                             47.97   \n",
       "1     2                          60.65                             56.78   \n",
       "2     3                          85.43                             56.30   \n",
       "3     4                          78.63                             49.68   \n",
       "4     5                          89.20                             57.94   \n",
       "5     6                          66.40                             41.32   \n",
       "6     7                          83.86                             53.23   \n",
       "7     8                          62.12                             48.89   \n",
       "8     9                          87.74                             49.22   \n",
       "9    10                          71.48                             55.68   \n",
       "\n",
       "   Homonyms/Ironic user  Homonym/Non-Ironic User  real  \n",
       "0             14.371905                12.035119     1  \n",
       "1             23.143519                14.033113     0  \n",
       "2             23.237668                21.097353     1  \n",
       "3             20.251030                15.721862     0  \n",
       "4             21.097353                11.090000     1  \n",
       "5             15.721862                14.230000     1  \n",
       "6             22.860000                10.860000     1  \n",
       "7             14.320000                 9.870000     1  \n",
       "8             16.890000                14.670000     1  \n",
       "9             20.230000                17.230000     1  "
      ]
     },
     "execution_count": 12,
     "metadata": {},
     "output_type": "execute_result"
    }
   ],
   "source": [
    "df"
   ]
  },
  {
   "cell_type": "code",
   "execution_count": 13,
   "metadata": {},
   "outputs": [
    {
     "data": {
      "text/html": [
       "<div>\n",
       "<style scoped>\n",
       "    .dataframe tbody tr th:only-of-type {\n",
       "        vertical-align: middle;\n",
       "    }\n",
       "\n",
       "    .dataframe tbody tr th {\n",
       "        vertical-align: top;\n",
       "    }\n",
       "\n",
       "    .dataframe thead th {\n",
       "        text-align: right;\n",
       "    }\n",
       "</style>\n",
       "<table border=\"1\" class=\"dataframe\">\n",
       "  <thead>\n",
       "    <tr style=\"text-align: right;\">\n",
       "      <th></th>\n",
       "      <th>User</th>\n",
       "      <th>Homonym/tweet for Ironic user</th>\n",
       "      <th>Homonym/tweet forNon-Ironic user</th>\n",
       "      <th>Homonyms/Ironic user</th>\n",
       "      <th>Homonym/Non-Ironic User</th>\n",
       "      <th>real</th>\n",
       "    </tr>\n",
       "  </thead>\n",
       "  <tbody>\n",
       "    <tr>\n",
       "      <th>count</th>\n",
       "      <td>10.00000</td>\n",
       "      <td>10.000000</td>\n",
       "      <td>10.00000</td>\n",
       "      <td>10.000000</td>\n",
       "      <td>10.000000</td>\n",
       "      <td>10.000000</td>\n",
       "    </tr>\n",
       "    <tr>\n",
       "      <th>mean</th>\n",
       "      <td>5.50000</td>\n",
       "      <td>77.344000</td>\n",
       "      <td>51.70100</td>\n",
       "      <td>19.212334</td>\n",
       "      <td>14.083745</td>\n",
       "      <td>0.800000</td>\n",
       "    </tr>\n",
       "    <tr>\n",
       "      <th>std</th>\n",
       "      <td>3.02765</td>\n",
       "      <td>11.229019</td>\n",
       "      <td>5.20544</td>\n",
       "      <td>3.583483</td>\n",
       "      <td>3.390317</td>\n",
       "      <td>0.421637</td>\n",
       "    </tr>\n",
       "    <tr>\n",
       "      <th>min</th>\n",
       "      <td>1.00000</td>\n",
       "      <td>60.650000</td>\n",
       "      <td>41.32000</td>\n",
       "      <td>14.320000</td>\n",
       "      <td>9.870000</td>\n",
       "      <td>0.000000</td>\n",
       "    </tr>\n",
       "    <tr>\n",
       "      <th>25%</th>\n",
       "      <td>3.25000</td>\n",
       "      <td>67.670000</td>\n",
       "      <td>48.97250</td>\n",
       "      <td>16.013896</td>\n",
       "      <td>11.326280</td>\n",
       "      <td>1.000000</td>\n",
       "    </tr>\n",
       "    <tr>\n",
       "      <th>50%</th>\n",
       "      <td>5.50000</td>\n",
       "      <td>81.245000</td>\n",
       "      <td>51.45500</td>\n",
       "      <td>20.240515</td>\n",
       "      <td>14.131556</td>\n",
       "      <td>1.000000</td>\n",
       "    </tr>\n",
       "    <tr>\n",
       "      <th>75%</th>\n",
       "      <td>7.75000</td>\n",
       "      <td>87.162500</td>\n",
       "      <td>56.14500</td>\n",
       "      <td>22.419338</td>\n",
       "      <td>15.458896</td>\n",
       "      <td>1.000000</td>\n",
       "    </tr>\n",
       "    <tr>\n",
       "      <th>max</th>\n",
       "      <td>10.00000</td>\n",
       "      <td>89.200000</td>\n",
       "      <td>57.94000</td>\n",
       "      <td>23.237668</td>\n",
       "      <td>21.097353</td>\n",
       "      <td>1.000000</td>\n",
       "    </tr>\n",
       "  </tbody>\n",
       "</table>\n",
       "</div>"
      ],
      "text/plain": [
       "           User  Homonym/tweet for Ironic user  \\\n",
       "count  10.00000                      10.000000   \n",
       "mean    5.50000                      77.344000   \n",
       "std     3.02765                      11.229019   \n",
       "min     1.00000                      60.650000   \n",
       "25%     3.25000                      67.670000   \n",
       "50%     5.50000                      81.245000   \n",
       "75%     7.75000                      87.162500   \n",
       "max    10.00000                      89.200000   \n",
       "\n",
       "       Homonym/tweet forNon-Ironic user  Homonyms/Ironic user  \\\n",
       "count                          10.00000             10.000000   \n",
       "mean                           51.70100             19.212334   \n",
       "std                             5.20544              3.583483   \n",
       "min                            41.32000             14.320000   \n",
       "25%                            48.97250             16.013896   \n",
       "50%                            51.45500             20.240515   \n",
       "75%                            56.14500             22.419338   \n",
       "max                            57.94000             23.237668   \n",
       "\n",
       "       Homonym/Non-Ironic User       real  \n",
       "count                10.000000  10.000000  \n",
       "mean                 14.083745   0.800000  \n",
       "std                   3.390317   0.421637  \n",
       "min                   9.870000   0.000000  \n",
       "25%                  11.326280   1.000000  \n",
       "50%                  14.131556   1.000000  \n",
       "75%                  15.458896   1.000000  \n",
       "max                  21.097353   1.000000  "
      ]
     },
     "execution_count": 13,
     "metadata": {},
     "output_type": "execute_result"
    }
   ],
   "source": [
    "df.describe()"
   ]
  },
  {
   "cell_type": "code",
   "execution_count": 18,
   "metadata": {},
   "outputs": [
    {
     "data": {
      "text/plain": [
       "<matplotlib.axes._subplots.AxesSubplot at 0x9f66f30>"
      ]
     },
     "execution_count": 18,
     "metadata": {},
     "output_type": "execute_result"
    },
    {
     "data": {
      "image/png": "[encoded data removed]",
      "text/plain": [
       "<Figure size 432x288 with 1 Axes>"
      ]
     },
     "metadata": {
      "needs_background": "light"
     },
     "output_type": "display_data"
    }
   ],
   "source": [
    "df['Homonyms/Ironic user'].hist()"
   ]
  },
  {
   "cell_type": "code",
   "execution_count": 20,
   "metadata": {},
   "outputs": [
    {
     "data": {
      "text/plain": [
       "<matplotlib.axes._subplots.AxesSubplot at 0x9fa7af0>"
      ]
     },
     "execution_count": 20,
     "metadata": {},
     "output_type": "execute_result"
    },
    {
     "data": {
      "image/png": "[encoded data removed]",
      "text/plain": [
       "<Figure size 432x288 with 1 Axes>"
      ]
     },
     "metadata": {
      "needs_background": "light"
     },
     "output_type": "display_data"
    }
   ],
   "source": [
    "df['Homonym/Non-Ironic User'].hist()"
   ]
  },
  {
   "cell_type": "code",
   "execution_count": 26,
   "metadata": {},
   "outputs": [
    {
     "ename": "ValueError",
     "evalue": "zero-dimensional arrays cannot be concatenated",
     "output_type": "error",
     "traceback": [
      "\u001b[1;31m---------------------------------------------------------------------------\u001b[0m",
      "\u001b[1;31mValueError\u001b[0m                                Traceback (most recent call last)",
      "\u001b[1;32m<ipython-input-26-d67b1054cb6f>\u001b[0m in \u001b[0;36m<module>\u001b[1;34m\u001b[0m\n\u001b[1;32m----> 1\u001b[1;33m \u001b[0mM\u001b[0m \u001b[1;33m=\u001b[0m \u001b[0mnp\u001b[0m\u001b[1;33m.\u001b[0m\u001b[0mconcatenate\u001b[0m\u001b[1;33m(\u001b[0m\u001b[1;33m[\u001b[0m\u001b[1;34m\"Irony/tweet\"\u001b[0m\u001b[1;33m,\u001b[0m \u001b[1;34m\"Non-Irony/tweet\"\u001b[0m\u001b[1;33m,\u001b[0m \u001b[1;34m\"Irony/user\"\u001b[0m\u001b[1;33m,\u001b[0m \u001b[1;34m\"Non-Irony/User\"\u001b[0m\u001b[1;33m]\u001b[0m\u001b[1;33m,\u001b[0m\u001b[0maxis\u001b[0m\u001b[1;33m=\u001b[0m\u001b[1;36m1\u001b[0m\u001b[1;33m)\u001b[0m\u001b[1;33m\u001b[0m\u001b[1;33m\u001b[0m\u001b[0m\n\u001b[0m",
      "\u001b[1;31mValueError\u001b[0m: zero-dimensional arrays cannot be concatenated"
     ]
    }
   ],
   "source": [
    "M = np.concatenate([\"Irony/tweet\", \"Non-Irony/tweet\", \"Irony/user\", \"Non-Irony/User\"],axis=1)"
   ]
  },
  {
   "cell_type": "code",
   "execution_count": 27,
   "metadata": {},
   "outputs": [],
   "source": [
    "pos_vectorizer = TfidfVectorizer(\n",
    "    tokenizer=None,\n",
    "    lowercase=False,\n",
    "    preprocessor=None,\n",
    "    ngram_range=(1, 3),\n",
    "    stop_words=None,\n",
    "    use_idf=False,\n",
    "    smooth_idf=False,\n",
    "    norm=None,\n",
    "    decode_error='replace',\n",
    "    max_features=2,\n",
    "    min_df=5,\n",
    "    max_df=0.75,\n",
    "    )"
   ]
  },
  {
   "cell_type": "code",
   "execution_count": 28,
   "metadata": {},
   "outputs": [],
   "source": [
    "y = df['Irony/tweet'].astype(int)"
   ]
  },
  {
   "cell_type": "code",
   "execution_count": 29,
   "metadata": {},
   "outputs": [],
   "source": [
    "x = df['Non-Irony/tweet'].astype(int)"
   ]
  },
  {
   "cell_type": "raw",
   "metadata": {},
   "source": [
    "##### import numpy as np\n",
    "\n",
    "currentDataClass = y\n",
    "predictedClass = \"real\"\n",
    "\n",
    "def comp_confmat(actual, predicted):\n",
    "\n",
    "    classes = np.unique(actual) # extract the different classes\n",
    "    matrix = np.zeros((len(classes), len(classes))) # initialize the confusion matrix with zeros\n",
    "\n",
    "    for i in range(len(classes)):\n",
    "        for j in range(len(classes)):\n",
    "\n",
    "            matrix[i, j] = np.sum((actual == classes[i]) & (predicted == classes[j]))\n",
    "\n",
    "    return matrix\n",
    "\n",
    "comp_confmat(currentDataClass, predictedClass)"
   ]
  },
  {
   "cell_type": "code",
   "execution_count": 35,
   "metadata": {},
   "outputs": [
    {
     "ename": "SyntaxError",
     "evalue": "invalid syntax (<ipython-input-35-cb44b764dfc8>, line 4)",
     "output_type": "error",
     "traceback": [
      "\u001b[1;36m  File \u001b[1;32m\"<ipython-input-35-cb44b764dfc8>\"\u001b[1;36m, line \u001b[1;32m4\u001b[0m\n\u001b[1;33m    60.65\u001b[0m\n\u001b[1;37m        ^\u001b[0m\n\u001b[1;31mSyntaxError\u001b[0m\u001b[1;31m:\u001b[0m invalid syntax\n"
     ]
    }
   ],
   "source": [
    "import numpy as np\n",
    "\n",
    "currentDataClass = [87.93\n",
    "60.65\n",
    "85.43\n",
    "78.63\n",
    "89.2\n",
    "66.4\n",
    "83.86\n",
    "62.12\n",
    "87.74\n",
    "71.48\n",
    "]\n",
    "predictedClass = [1\n",
    "0\n",
    "1\n",
    "0\n",
    "1\n",
    "1\n",
    "1\n",
    "1\n",
    "1\n",
    "1\n",
    "]\n",
    "\n",
    "def comp_confmat(actual, predicted):\n",
    "\n",
    "    classes = np.unique(actual) # extract the different classes\n",
    "    matrix = np.zeros((len(classes), len(classes))) # initialize the confusion matrix with zeros\n",
    "\n",
    "    for i in range(len(classes)):\n",
    "        for j in range(len(classes)):\n",
    "\n",
    "            matrix[i, j] = np.sum((actual == classes[i]) & (predicted == classes[j]))\n",
    "\n",
    "    return matrix\n",
    "\n",
    "comp_confmat(currentDataClass, predictedClass)"
   ]
  },
  {
   "cell_type": "code",
   "execution_count": null,
   "metadata": {},
   "outputs": [],
   "source": []
  }
 ],
 "metadata": {
  "kernelspec": {
   "display_name": "Python 3",
   "language": "python",
   "name": "python3"
  },
  "language_info": {
   "codemirror_mode": {
    "name": "ipython",
    "version": 3
   },
   "file_extension": ".py",
   "mimetype": "text/x-python",
   "name": "python",
   "nbconvert_exporter": "python",
   "pygments_lexer": "ipython3",
   "version": "3.7.1"
  }
 },
 "nbformat": 4,
 "nbformat_minor": 2
}
